{
 "cells": [
  {
   "cell_type": "code",
   "execution_count": 6,
   "metadata": {},
   "outputs": [],
   "source": [
    "# import the OpenCV library\n",
    "\n",
    "import cv2"
   ]
  },
  {
   "cell_type": "code",
   "execution_count": 7,
   "metadata": {},
   "outputs": [],
   "source": [
    "#Include the desired haar-cascades.\n",
    "#Haar-cascades are classifiers that are used to detect features (of face in this case) \n",
    "#by superimposing predefined patterns over face segments and are used as XML files. \n",
    "#In our model, we shall use face, eye and smile haar-cascades, \n",
    "#which after downloading need to be placed in the working directory.\n",
    "\n",
    "face_cascade = cv2.CascadeClassifier(cv2.data.haarcascades +'haarcascade_frontalface_default.xml')\n",
    "eye_cascade = cv2.CascadeClassifier(cv2.data.haarcascades +'haarcascade_eye.xml')\n",
    "smile_cascade = cv2.CascadeClassifier(cv2.data.haarcascades +'haarcascade_smile.xml')"
   ]
  },
  {
   "cell_type": "code",
   "execution_count": 10,
   "metadata": {},
   "outputs": [],
   "source": [
    "#Define live feed coming from the webcam/video device is processed frame by frame. \n",
    "# We process the gray scale image, as haar-cascades work better on them.\n",
    "\n",
    "def detect(gray, frame):\n",
    "    faces = face_cascade.detectMultiScale(gray, 1.3, 5)\n",
    "    for (x, y, w, h) in faces:\n",
    "        cv2.rectangle(frame, (x, y), ((x + w), (y + h)), (255, 0, 0), 2)\n",
    "        roi_gray = gray[y:y + h, x:x + w]\n",
    "        roi_color = frame[y:y + h, x:x + w]\n",
    "        smiles = smile_cascade.detectMultiScale(roi_gray, 1.8, 20)\n",
    "  \n",
    "        for (sx, sy, sw, sh) in smiles:\n",
    "            cv2.rectangle(roi_color, (sx, sy), ((sx + sw), (sy + sh)), (0, 0, 255), 2)\n",
    "    return frame\n",
    "\n",
    "#where 1.3 is the scaling factor, and 5 is the number of nearest neighbors. \n",
    "# We can adjust these factors as per our convenience/results to improve our detector."
   ]
  },
  {
   "cell_type": "code",
   "execution_count": null,
   "metadata": {},
   "outputs": [],
   "source": [
    "#The face data is stored as tuples of coordinates. Here, x and y define the coordinate of the upper-left corner of the face frame, w and h define the width and height of the frame. \n",
    " \n",
    "#The cv2.rectangle function takes in the arguments frame, upper-left coordinates of the face, lower right coordinates, the RGB code for the rectangle (that would contain within it the detected face) and the thickness of the rectangle. \n",
    " \n",
    "#The roi_gray defines the region of interest of the face and roi_color does the same for the original frame. \n",
    " \n",
    "#In line 7, we apply smile detection using the cascade. "
   ]
  },
  {
   "cell_type": "code",
   "execution_count": 15,
   "metadata": {},
   "outputs": [],
   "source": [
    "video_capture = cv2.VideoCapture(0)\n",
    "while video_capture.isOpened():\n",
    "   # Captures video_capture frame by frame\n",
    "    _, frame = video_capture.read() \n",
    "  \n",
    "    # To capture image in monochrome                    \n",
    "    gray = cv2.cvtColor(frame, cv2.COLOR_BGR2GRAY)  \n",
    "      \n",
    "    # calls the detect() function    \n",
    "    canvas = detect(gray, frame)   \n",
    "  \n",
    "    # Displays the result on camera feed                     \n",
    "    cv2.imshow('Video', canvas) \n",
    "  \n",
    "    # The control breaks once q key is pressed                        \n",
    "    if cv2.waitKey(1) & 0xff == ord('q'):               \n",
    "        break\n",
    "  \n",
    "# Release the capture once all the processing is done.\n",
    "video_capture.release()                                 \n",
    "cv2.destroyAllWindows()"
   ]
  }
 ],
 "metadata": {
  "kernelspec": {
   "display_name": "Web_scraping",
   "language": "python",
   "name": "python3"
  },
  "language_info": {
   "codemirror_mode": {
    "name": "ipython",
    "version": 3
   },
   "file_extension": ".py",
   "mimetype": "text/x-python",
   "name": "python",
   "nbconvert_exporter": "python",
   "pygments_lexer": "ipython3",
   "version": "3.10.0"
  },
  "orig_nbformat": 4,
  "vscode": {
   "interpreter": {
    "hash": "fd3a65b0db82cd45827418072023feeb85150bf9de86bed6507da1ec50536411"
   }
  }
 },
 "nbformat": 4,
 "nbformat_minor": 2
}
